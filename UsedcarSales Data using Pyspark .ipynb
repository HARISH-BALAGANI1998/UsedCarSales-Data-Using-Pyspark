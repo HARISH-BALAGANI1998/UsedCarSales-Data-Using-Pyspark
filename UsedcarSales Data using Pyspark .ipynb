{
 "cells": [
  {
   "cell_type": "code",
   "execution_count": 1,
   "id": "407c4fcf",
   "metadata": {},
   "outputs": [],
   "source": [
    "import pyspark"
   ]
  },
  {
   "cell_type": "code",
   "execution_count": 3,
   "id": "1880acae",
   "metadata": {},
   "outputs": [],
   "source": [
    "from pyspark.sql import SparkSession\n",
    "spark=SparkSession.builder.appName('EDA').getOrCreate()"
   ]
  },
  {
   "cell_type": "code",
   "execution_count": 4,
   "id": "4948114b",
   "metadata": {},
   "outputs": [
    {
     "data": {
      "text/html": [
       "\n",
       "            <div>\n",
       "                <p><b>SparkSession - in-memory</b></p>\n",
       "                \n",
       "        <div>\n",
       "            <p><b>SparkContext</b></p>\n",
       "\n",
       "            <p><a href=\"http://DESKTOP-L17ELAA.mshome.net:4040\">Spark UI</a></p>\n",
       "\n",
       "            <dl>\n",
       "              <dt>Version</dt>\n",
       "                <dd><code>v3.1.2</code></dd>\n",
       "              <dt>Master</dt>\n",
       "                <dd><code>local[*]</code></dd>\n",
       "              <dt>AppName</dt>\n",
       "                <dd><code>EDA</code></dd>\n",
       "            </dl>\n",
       "        </div>\n",
       "        \n",
       "            </div>\n",
       "        "
      ],
      "text/plain": [
       "<pyspark.sql.session.SparkSession at 0x241bf71dfa0>"
      ]
     },
     "execution_count": 4,
     "metadata": {},
     "output_type": "execute_result"
    }
   ],
   "source": [
    "spark"
   ]
  },
  {
   "cell_type": "markdown",
   "id": "b3326ff4",
   "metadata": {},
   "source": [
    "# RDD"
   ]
  },
  {
   "cell_type": "code",
   "execution_count": 5,
   "id": "b08520df",
   "metadata": {},
   "outputs": [],
   "source": [
    "# Dataset- usedcarsales.csv\n",
    "carSales=spark.read.csv(\"usedcarsales.csv\",header=True,inferSchema=True)"
   ]
  },
  {
   "cell_type": "code",
   "execution_count": 14,
   "id": "5b8ed41d",
   "metadata": {},
   "outputs": [
    {
     "name": "stdout",
     "output_type": "stream",
     "text": [
      "+---+-----+---+-----+--------+---+--------+---------+----+-----+------+--------+------------+\n",
      "|_c0|Price|Age|   KM|FuelType| HP|MetColor|Automatic|  CC|Doors|Weight|AutoType|MetColorType|\n",
      "+---+-----+---+-----+--------+---+--------+---------+----+-----+------+--------+------------+\n",
      "|  1|13500| 23|46986|  Diesel| 90|       1|        0|2000|    3|  1165|  Manual|    Metcolor|\n",
      "|  2|13750| 23|72937|  Diesel| 90|       1|        0|2000|    3|  1165|  Manual|    Metcolor|\n",
      "|  3|13950| 24|41711|  Diesel| 90|       1|        0|2000|    3|  1165|  Manual|    Metcolor|\n",
      "|  4|14950| 26|48000|  Diesel| 90|       0|        0|2000|    3|  1165|  Manual| NonMetcolor|\n",
      "|  5|13750| 30|38500|  Diesel| 90|       0|        0|2000|    3|  1170|  Manual| NonMetcolor|\n",
      "+---+-----+---+-----+--------+---+--------+---------+----+-----+------+--------+------------+\n",
      "only showing top 5 rows\n",
      "\n"
     ]
    }
   ],
   "source": [
    "carSales.show(5) # First 5 Rows of Data"
   ]
  },
  {
   "cell_type": "code",
   "execution_count": 8,
   "id": "2b0def22",
   "metadata": {},
   "outputs": [
    {
     "name": "stdout",
     "output_type": "stream",
     "text": [
      "root\n",
      " |-- _c0: integer (nullable = true)\n",
      " |-- Price: integer (nullable = true)\n",
      " |-- Age: integer (nullable = true)\n",
      " |-- KM: integer (nullable = true)\n",
      " |-- FuelType: string (nullable = true)\n",
      " |-- HP: integer (nullable = true)\n",
      " |-- MetColor: integer (nullable = true)\n",
      " |-- Automatic: integer (nullable = true)\n",
      " |-- CC: integer (nullable = true)\n",
      " |-- Doors: integer (nullable = true)\n",
      " |-- Weight: integer (nullable = true)\n",
      " |-- AutoType: string (nullable = true)\n",
      " |-- MetColorType: string (nullable = true)\n",
      "\n"
     ]
    }
   ],
   "source": [
    "carSales.printSchema()"
   ]
  },
  {
   "cell_type": "code",
   "execution_count": 9,
   "id": "9a5152eb",
   "metadata": {},
   "outputs": [
    {
     "data": {
      "text/plain": [
       "['_c0',\n",
       " 'Price',\n",
       " 'Age',\n",
       " 'KM',\n",
       " 'FuelType',\n",
       " 'HP',\n",
       " 'MetColor',\n",
       " 'Automatic',\n",
       " 'CC',\n",
       " 'Doors',\n",
       " 'Weight',\n",
       " 'AutoType',\n",
       " 'MetColorType']"
      ]
     },
     "execution_count": 9,
     "metadata": {},
     "output_type": "execute_result"
    }
   ],
   "source": [
    "carSales.columns # Names of Variables or Columns"
   ]
  },
  {
   "cell_type": "code",
   "execution_count": 10,
   "id": "212fbf91",
   "metadata": {},
   "outputs": [
    {
     "data": {
      "text/plain": [
       "[('_c0', 'int'),\n",
       " ('Price', 'int'),\n",
       " ('Age', 'int'),\n",
       " ('KM', 'int'),\n",
       " ('FuelType', 'string'),\n",
       " ('HP', 'int'),\n",
       " ('MetColor', 'int'),\n",
       " ('Automatic', 'int'),\n",
       " ('CC', 'int'),\n",
       " ('Doors', 'int'),\n",
       " ('Weight', 'int'),\n",
       " ('AutoType', 'string'),\n",
       " ('MetColorType', 'string')]"
      ]
     },
     "execution_count": 10,
     "metadata": {},
     "output_type": "execute_result"
    }
   ],
   "source": [
    "carSales.dtypes"
   ]
  },
  {
   "cell_type": "code",
   "execution_count": 15,
   "id": "b0437522",
   "metadata": {},
   "outputs": [],
   "source": [
    "drop_cols=['_c0','AutoType','MetColorType'] # dropping unnecessary columns"
   ]
  },
  {
   "cell_type": "code",
   "execution_count": 23,
   "id": "01c532e8",
   "metadata": {},
   "outputs": [],
   "source": [
    "carSalesdf=carSales.drop(*drop_cols)"
   ]
  },
  {
   "cell_type": "markdown",
   "id": "391f959d",
   "metadata": {},
   "source": [
    "# EDA"
   ]
  },
  {
   "cell_type": "code",
   "execution_count": 26,
   "id": "56b1fa1b",
   "metadata": {},
   "outputs": [
    {
     "name": "stdout",
     "output_type": "stream",
     "text": [
      "+-------+------------------+------------------+------------------+--------+------------------+-------------------+--------------------+------------------+------------------+------------------+\n",
      "|summary|             Price|               Age|                KM|FuelType|                HP|           MetColor|           Automatic|                CC|             Doors|            Weight|\n",
      "+-------+------------------+------------------+------------------+--------+------------------+-------------------+--------------------+------------------+------------------+------------------+\n",
      "|  count|              1436|              1436|              1436|    1436|              1436|               1436|                1436|              1436|              1436|              1436|\n",
      "|   mean|10730.824512534818| 55.94707520891365| 68533.25974930362|    null|101.50208913649026|  0.674791086350975|0.055710306406685235|1566.8279944289693|4.0334261838440115|1072.4596100278552|\n",
      "| stddev|3626.9645849102403|18.599988342806252|37506.448872189554|    null|14.981079675567686|0.46861604925657424| 0.22944133861584212| 187.1824363291632|0.9526766046325884| 52.64112048693142|\n",
      "|    min|              4350|                 1|                 1|     CNG|                69|                  0|                   0|              1300|                 2|              1000|\n",
      "|    max|             32500|                80|            243000|  Petrol|               192|                  1|                   1|              2000|                 5|              1615|\n",
      "+-------+------------------+------------------+------------------+--------+------------------+-------------------+--------------------+------------------+------------------+------------------+\n",
      "\n"
     ]
    }
   ],
   "source": [
    "# Exploratory Data Analysis- Descriptive Statistics and Data Vizualization\n",
    "carSalesdf.describe().show()"
   ]
  },
  {
   "cell_type": "code",
   "execution_count": 27,
   "id": "44d1ebae",
   "metadata": {},
   "outputs": [
    {
     "data": {
      "text/plain": [
       "pyspark.sql.dataframe.DataFrame"
      ]
     },
     "execution_count": 27,
     "metadata": {},
     "output_type": "execute_result"
    }
   ],
   "source": [
    "type(carSalesdf)"
   ]
  },
  {
   "cell_type": "code",
   "execution_count": 28,
   "id": "9515428f",
   "metadata": {},
   "outputs": [],
   "source": [
    "from pyspark.sql.functions import skewness,kurtosis"
   ]
  },
  {
   "cell_type": "code",
   "execution_count": 35,
   "id": "64d456f2",
   "metadata": {},
   "outputs": [
    {
     "name": "stdout",
     "output_type": "stream",
     "text": [
      "+-----+\n",
      "|Price|\n",
      "+-----+\n",
      "|13500|\n",
      "|13750|\n",
      "|13950|\n",
      "+-----+\n",
      "only showing top 3 rows\n",
      "\n"
     ]
    }
   ],
   "source": [
    "carSales.select('Price').show(3)"
   ]
  },
  {
   "cell_type": "code",
   "execution_count": 36,
   "id": "9d59a344",
   "metadata": {},
   "outputs": [
    {
     "name": "stdout",
     "output_type": "stream",
     "text": [
      "+-----------------+-----------------+\n",
      "|  skewness(Price)|  kurtosis(Price)|\n",
      "+-----------------+-----------------+\n",
      "|1.702104639170034|3.720603948160372|\n",
      "+-----------------+-----------------+\n",
      "\n"
     ]
    }
   ],
   "source": [
    "carSales.select(skewness(\"Price\"),kurtosis('Price')).show()"
   ]
  },
  {
   "cell_type": "code",
   "execution_count": 41,
   "id": "1c7cdf18",
   "metadata": {},
   "outputs": [],
   "source": [
    "# DESCRIPTIVE STATISTICS -  UNIVARIATE STATISTICS\n",
    "# MEASURES OF CENTRAL TENDENCY(MIDPOINT) - MEAN, MEDIAN, MODE\n",
    "# MEASURES OF DISPERSION(SCATTERING OF OBSERVATIONS AROUND MEAN) - VARIANCE, STANDARD DEVIATION, QUARTILES, RANGE, PERCENTILES\n",
    "# MEASURES OF ASYMMETRY (HOW CLOSE THE DATA IS TO NORMAL DISTRIBUTION) - SKEWNESS, KURTOSIS"
   ]
  },
  {
   "cell_type": "code",
   "execution_count": 38,
   "id": "5e4522a6",
   "metadata": {},
   "outputs": [],
   "source": [
    "# QUARTILES IDENTIFY THE OUTLIERS PRESENT IN OUR DATA(OUTLIERS- ABNORMAL POINTS OR EXTREME POINTS)\n",
    "quartiles=carSales.approxQuantile('Price',[0.25,0.50,0.75],0)"
   ]
  },
  {
   "cell_type": "code",
   "execution_count": 40,
   "id": "14c169bb",
   "metadata": {},
   "outputs": [
    {
     "data": {
      "text/plain": [
       "[8450.0, 9900.0, 11950.0]"
      ]
     },
     "execution_count": 40,
     "metadata": {},
     "output_type": "execute_result"
    }
   ],
   "source": [
    "quartiles # Q1, Q2 OR Median ,Q3\n",
    "# Mean of Price - 10730.824\n",
    "# Median of Price - 9900.0\n",
    "# IF Mean is distorted, Consider Median"
   ]
  },
  {
   "cell_type": "code",
   "execution_count": 45,
   "id": "5104dce8",
   "metadata": {},
   "outputs": [],
   "source": [
    "import pandas as pd\n",
    "import matplotlib.pyplot as plt\n",
    "%matplotlib inline"
   ]
  },
  {
   "cell_type": "code",
   "execution_count": 48,
   "id": "17dfef7b",
   "metadata": {},
   "outputs": [
    {
     "data": {
      "text/plain": [
       "<AxesSubplot:ylabel='Frequency'>"
      ]
     },
     "execution_count": 48,
     "metadata": {},
     "output_type": "execute_result"
    },
    {
     "data": {
      "image/png": "[encoded data removed]",
      "text/plain": [
       "<Figure size 432x288 with 1 Axes>"
      ]
     },
     "metadata": {
      "needs_background": "light"
     },
     "output_type": "display_data"
    }
   ],
   "source": [
    "Price=carSales.select('Price').toPandas()\n",
    "Price.plot(kind=\"hist\")"
   ]
  },
  {
   "cell_type": "code",
   "execution_count": 49,
   "id": "3f517fa6",
   "metadata": {},
   "outputs": [
    {
     "data": {
      "text/plain": [
       "pandas.core.frame.DataFrame"
      ]
     },
     "execution_count": 49,
     "metadata": {},
     "output_type": "execute_result"
    }
   ],
   "source": [
    "type(Price)"
   ]
  },
  {
   "cell_type": "code",
   "execution_count": 50,
   "id": "5924ba4d",
   "metadata": {},
   "outputs": [
    {
     "data": {
      "text/plain": [
       "(array([110., 706., 343., 114.,  75.,  59.,  22.,   4.,   0.,   3.]),\n",
       " array([ 4350.,  7165.,  9980., 12795., 15610., 18425., 21240., 24055.,\n",
       "        26870., 29685., 32500.]),\n",
       " <BarContainer object of 10 artists>)"
      ]
     },
     "execution_count": 50,
     "metadata": {},
     "output_type": "execute_result"
    },
    {
     "data": {
      "image/png": "[encoded data removed]",
      "text/plain": [
       "<Figure size 432x288 with 1 Axes>"
      ]
     },
     "metadata": {
      "needs_background": "light"
     },
     "output_type": "display_data"
    }
   ],
   "source": [
    "plt.hist(Price) # Histogram identify Skewness, Kurtosis and Outliers"
   ]
  },
  {
   "cell_type": "code",
   "execution_count": 53,
   "id": "33808728",
   "metadata": {},
   "outputs": [
    {
     "data": {
      "text/plain": [
       "<AxesSubplot:>"
      ]
     },
     "execution_count": 53,
     "metadata": {},
     "output_type": "execute_result"
    },
    {
     "data": {
      "image/png": "[encoded data removed]",
      "text/plain": [
       "<Figure size 432x288 with 1 Axes>"
      ]
     },
     "metadata": {
      "needs_background": "light"
     },
     "output_type": "display_data"
    }
   ],
   "source": [
    "Price.plot(kind='box',vert=False) # Boxplot identify Outliers and Skewness"
   ]
  },
  {
   "cell_type": "code",
   "execution_count": 54,
   "id": "d89ac036",
   "metadata": {},
   "outputs": [
    {
     "data": {
      "text/plain": [
       "<AxesSubplot:ylabel='Density'>"
      ]
     },
     "execution_count": 54,
     "metadata": {},
     "output_type": "execute_result"
    },
    {
     "data": {
      "image/png": "[encoded data removed]",
      "text/plain": [
       "<Figure size 432x288 with 1 Axes>"
      ]
     },
     "metadata": {
      "needs_background": "light"
     },
     "output_type": "display_data"
    }
   ],
   "source": [
    "Price.plot(kind='density')"
   ]
  },
  {
   "cell_type": "code",
   "execution_count": 55,
   "id": "f241b434",
   "metadata": {},
   "outputs": [],
   "source": [
    "# we Correct the Skewness \n",
    "# Positive Skewness - Logarthmic Transformation or Squareroot\n",
    "# Negative Skewness - Exponential Transformation or Power"
   ]
  },
  {
   "cell_type": "code",
   "execution_count": 56,
   "id": "46cd3036",
   "metadata": {},
   "outputs": [],
   "source": [
    "import numpy as np"
   ]
  },
  {
   "cell_type": "code",
   "execution_count": 58,
   "id": "126afee2",
   "metadata": {},
   "outputs": [
    {
     "data": {
      "text/plain": [
       "<AxesSubplot:>"
      ]
     },
     "execution_count": 58,
     "metadata": {},
     "output_type": "execute_result"
    },
    {
     "data": {
      "image/png": "[encoded data removed]",
      "text/plain": [
       "<Figure size 432x288 with 1 Axes>"
      ]
     },
     "metadata": {
      "needs_background": "light"
     },
     "output_type": "display_data"
    }
   ],
   "source": [
    "np.log(Price).plot(kind='box',vert=False)"
   ]
  },
  {
   "cell_type": "code",
   "execution_count": 59,
   "id": "8c3bf1f1",
   "metadata": {},
   "outputs": [
    {
     "data": {
      "text/plain": [
       "<AxesSubplot:ylabel='Density'>"
      ]
     },
     "execution_count": 59,
     "metadata": {},
     "output_type": "execute_result"
    },
    {
     "data": {
      "image/png": "[encoded data removed]",
      "text/plain": [
       "<Figure size 432x288 with 1 Axes>"
      ]
     },
     "metadata": {
      "needs_background": "light"
     },
     "output_type": "display_data"
    }
   ],
   "source": [
    "np.log(Price).plot(kind='density')"
   ]
  },
  {
   "cell_type": "code",
   "execution_count": 60,
   "id": "71cb306f",
   "metadata": {},
   "outputs": [
    {
     "name": "stdout",
     "output_type": "stream",
     "text": [
      "+--------+------------------+\n",
      "|FuelType|        avg(Price)|\n",
      "+--------+------------------+\n",
      "|  Diesel|11294.554838709677|\n",
      "|     CNG| 9421.176470588236|\n",
      "|  Petrol|10679.310126582279|\n",
      "+--------+------------------+\n",
      "\n"
     ]
    }
   ],
   "source": [
    "# Groupby Function\n",
    "carSales.groupby('FuelType').mean('Price').show()"
   ]
  },
  {
   "cell_type": "code",
   "execution_count": 61,
   "id": "2cfa8ffb",
   "metadata": {},
   "outputs": [
    {
     "name": "stdout",
     "output_type": "stream",
     "text": [
      "+--------+-----------------+\n",
      "|FuelType|         avg(Age)|\n",
      "+--------+-----------------+\n",
      "|  Diesel|50.72258064516129|\n",
      "|     CNG|56.35294117647059|\n",
      "|  Petrol|56.58227848101266|\n",
      "+--------+-----------------+\n",
      "\n"
     ]
    }
   ],
   "source": [
    "carSales.groupby('FuelType').mean('Age').show()"
   ]
  },
  {
   "cell_type": "code",
   "execution_count": 63,
   "id": "d823400a",
   "metadata": {},
   "outputs": [
    {
     "name": "stdout",
     "output_type": "stream",
     "text": [
      "+--------+------------------+-----------------+------------------+\n",
      "|FuelType|        avg(Price)|         avg(Age)|           avg(KM)|\n",
      "+--------+------------------+-----------------+------------------+\n",
      "|  Diesel|11294.554838709677|50.72258064516129|111977.58064516129|\n",
      "|     CNG| 9421.176470588236|56.35294117647059|117865.58823529411|\n",
      "|  Petrol|10679.310126582279|56.58227848101266| 62542.34256329114|\n",
      "+--------+------------------+-----------------+------------------+\n",
      "\n"
     ]
    }
   ],
   "source": [
    "carSales.groupBy(\"FuelType\").mean('Price','Age','KM').show()"
   ]
  },
  {
   "cell_type": "code",
   "execution_count": 65,
   "id": "5be7d452",
   "metadata": {},
   "outputs": [
    {
     "name": "stdout",
     "output_type": "stream",
     "text": [
      "+---------+-----------------+-----------------+-----------------+\n",
      "|Automatic|       avg(Price)|         avg(Age)|          avg(KM)|\n",
      "+---------+-----------------+-----------------+-----------------+\n",
      "|        1|        11224.625|           58.375|        55898.125|\n",
      "|        0|10701.69174041298|55.80383480825959|69278.69542772861|\n",
      "+---------+-----------------+-----------------+-----------------+\n",
      "\n"
     ]
    }
   ],
   "source": [
    "carSales.groupby('Automatic').mean(\"Price\",'Age','KM').show()\n",
    "# Automatic 0 - N0. Automatic 1 -Yes"
   ]
  },
  {
   "cell_type": "code",
   "execution_count": 66,
   "id": "7591e0cf",
   "metadata": {},
   "outputs": [
    {
     "name": "stdout",
     "output_type": "stream",
     "text": [
      "+-----+------------------+------------------+------------------+\n",
      "|Doors|        avg(Price)|           avg(CC)|       avg(Weight)|\n",
      "+-----+------------------+------------------+------------------+\n",
      "|    3|10107.342443729904|1538.1173633440515|1057.7540192926044|\n",
      "|    5|11503.209198813056|1588.9554896142433|1091.1557863501484|\n",
      "|    4| 9806.768115942028|1586.9565217391305| 1047.536231884058|\n",
      "|    2|            8100.0|            1650.0|            1065.0|\n",
      "+-----+------------------+------------------+------------------+\n",
      "\n"
     ]
    }
   ],
   "source": [
    "carSales.groupby('Doors').mean('Price','CC','Weight').show()"
   ]
  },
  {
   "cell_type": "code",
   "execution_count": 67,
   "id": "7e822513",
   "metadata": {},
   "outputs": [
    {
     "name": "stdout",
     "output_type": "stream",
     "text": [
      "+------------------+----+---+\n",
      "|FuelType_Automatic|   0|  1|\n",
      "+------------------+----+---+\n",
      "|            Petrol|1185| 79|\n",
      "|            Diesel| 155|  0|\n",
      "|               CNG|  16|  1|\n",
      "+------------------+----+---+\n",
      "\n"
     ]
    }
   ],
   "source": [
    "carSales.crosstab('FuelType','Automatic').show() # Crosstab"
   ]
  },
  {
   "cell_type": "code",
   "execution_count": 68,
   "id": "dcc33d5b",
   "metadata": {},
   "outputs": [],
   "source": [
    "carSalesdf=carSales.toPandas()"
   ]
  },
  {
   "cell_type": "code",
   "execution_count": 69,
   "id": "141e07ac",
   "metadata": {},
   "outputs": [],
   "source": [
    "# HYPOTHESIS TESTING - COMPARISION OF MEANS OR AVERAGES OF 2 GROUPS OR CLASSES OR MORE THAN 2 GROUPS OR CLASSES\n",
    "# ONE VARIABLE - NUMERIC , OTHER VARIABLE - CATEGORICAL WITH EXACTLY 2 LEVELS OR GROUPS\n",
    "# TEST - 2 SAMPLE INDEPENDENT T-TEST\n",
    "# NULL - NO SIGNIFICANT DIFFERENCE IN AVERAGE PRICE OF AUTOMATIC 0 & 1 CARS\n",
    "# ALT - SIGNIFICANT DIFFERENCE IN AVERAGE PRICE OF AUTOMATIC 0 & 1 CARS\n",
    "\n",
    "\n",
    "# INTERPRETATION\n",
    "# P -VALUE LESS THAN 0.05, REJECT NULL HYPOTHESIS\n",
    "# P-VALUE GREATER THAN 0.05, FAIL TO REJECT NULL HYPOTHESIS(ACCEPT NULL)\n",
    "# 0.05 MEANS 5% ALPHA(PROBABLE ERROR RATE) & 95 % CONFIDENCE LEVEL"
   ]
  },
  {
   "cell_type": "code",
   "execution_count": 70,
   "id": "92c22a62",
   "metadata": {},
   "outputs": [
    {
     "name": "stdout",
     "output_type": "stream",
     "text": [
      "(80, 13)\n",
      "(1356, 13)\n"
     ]
    }
   ],
   "source": [
    "auto=carSalesdf[carSalesdf.Automatic==1]\n",
    "manual=carSalesdf[carSalesdf.Automatic==0]\n",
    "print(auto.shape)\n",
    "print(manual.shape)"
   ]
  },
  {
   "cell_type": "code",
   "execution_count": 73,
   "id": "fcec7023",
   "metadata": {},
   "outputs": [
    {
     "data": {
      "text/html": [
       "<div>\n",
       "<style scoped>\n",
       "    .dataframe tbody tr th:only-of-type {\n",
       "        vertical-align: middle;\n",
       "    }\n",
       "\n",
       "    .dataframe tbody tr th {\n",
       "        vertical-align: top;\n",
       "    }\n",
       "\n",
       "    .dataframe thead th {\n",
       "        text-align: right;\n",
       "    }\n",
       "</style>\n",
       "<table border=\"1\" class=\"dataframe\">\n",
       "  <thead>\n",
       "    <tr style=\"text-align: right;\">\n",
       "      <th></th>\n",
       "      <th>_c0</th>\n",
       "      <th>Price</th>\n",
       "      <th>Age</th>\n",
       "      <th>KM</th>\n",
       "      <th>FuelType</th>\n",
       "      <th>HP</th>\n",
       "      <th>MetColor</th>\n",
       "      <th>Automatic</th>\n",
       "      <th>CC</th>\n",
       "      <th>Doors</th>\n",
       "      <th>Weight</th>\n",
       "      <th>AutoType</th>\n",
       "      <th>MetColorType</th>\n",
       "    </tr>\n",
       "  </thead>\n",
       "  <tbody>\n",
       "    <tr>\n",
       "      <th>21</th>\n",
       "      <td>22</td>\n",
       "      <td>16950</td>\n",
       "      <td>29</td>\n",
       "      <td>43905</td>\n",
       "      <td>Petrol</td>\n",
       "      <td>110</td>\n",
       "      <td>0</td>\n",
       "      <td>1</td>\n",
       "      <td>1600</td>\n",
       "      <td>3</td>\n",
       "      <td>1170</td>\n",
       "      <td>Auto</td>\n",
       "      <td>NonMetcolor</td>\n",
       "    </tr>\n",
       "    <tr>\n",
       "      <th>52</th>\n",
       "      <td>53</td>\n",
       "      <td>20500</td>\n",
       "      <td>26</td>\n",
       "      <td>56000</td>\n",
       "      <td>Petrol</td>\n",
       "      <td>110</td>\n",
       "      <td>1</td>\n",
       "      <td>1</td>\n",
       "      <td>1600</td>\n",
       "      <td>5</td>\n",
       "      <td>1180</td>\n",
       "      <td>Auto</td>\n",
       "      <td>Metcolor</td>\n",
       "    </tr>\n",
       "    <tr>\n",
       "      <th>54</th>\n",
       "      <td>55</td>\n",
       "      <td>15500</td>\n",
       "      <td>25</td>\n",
       "      <td>49163</td>\n",
       "      <td>Petrol</td>\n",
       "      <td>110</td>\n",
       "      <td>0</td>\n",
       "      <td>1</td>\n",
       "      <td>1600</td>\n",
       "      <td>5</td>\n",
       "      <td>1165</td>\n",
       "      <td>Auto</td>\n",
       "      <td>NonMetcolor</td>\n",
       "    </tr>\n",
       "    <tr>\n",
       "      <th>58</th>\n",
       "      <td>59</td>\n",
       "      <td>18950</td>\n",
       "      <td>23</td>\n",
       "      <td>39704</td>\n",
       "      <td>Petrol</td>\n",
       "      <td>110</td>\n",
       "      <td>1</td>\n",
       "      <td>1</td>\n",
       "      <td>1600</td>\n",
       "      <td>5</td>\n",
       "      <td>1180</td>\n",
       "      <td>Auto</td>\n",
       "      <td>Metcolor</td>\n",
       "    </tr>\n",
       "    <tr>\n",
       "      <th>80</th>\n",
       "      <td>81</td>\n",
       "      <td>18950</td>\n",
       "      <td>25</td>\n",
       "      <td>20019</td>\n",
       "      <td>Petrol</td>\n",
       "      <td>110</td>\n",
       "      <td>1</td>\n",
       "      <td>1</td>\n",
       "      <td>1600</td>\n",
       "      <td>5</td>\n",
       "      <td>1180</td>\n",
       "      <td>Auto</td>\n",
       "      <td>Metcolor</td>\n",
       "    </tr>\n",
       "  </tbody>\n",
       "</table>\n",
       "</div>"
      ],
      "text/plain": [
       "    _c0  Price  Age     KM FuelType   HP  MetColor  Automatic    CC  Doors  \\\n",
       "21   22  16950   29  43905   Petrol  110         0          1  1600      3   \n",
       "52   53  20500   26  56000   Petrol  110         1          1  1600      5   \n",
       "54   55  15500   25  49163   Petrol  110         0          1  1600      5   \n",
       "58   59  18950   23  39704   Petrol  110         1          1  1600      5   \n",
       "80   81  18950   25  20019   Petrol  110         1          1  1600      5   \n",
       "\n",
       "    Weight AutoType MetColorType  \n",
       "21    1170     Auto  NonMetcolor  \n",
       "52    1180     Auto     Metcolor  \n",
       "54    1165     Auto  NonMetcolor  \n",
       "58    1180     Auto     Metcolor  \n",
       "80    1180     Auto     Metcolor  "
      ]
     },
     "execution_count": 73,
     "metadata": {},
     "output_type": "execute_result"
    }
   ],
   "source": [
    "auto.head()"
   ]
  },
  {
   "cell_type": "markdown",
   "id": "24fd450b",
   "metadata": {},
   "source": [
    "# T-Test"
   ]
  },
  {
   "cell_type": "code",
   "execution_count": 77,
   "id": "93e3354f",
   "metadata": {},
   "outputs": [
    {
     "data": {
      "text/plain": [
       "Ttest_indResult(statistic=1.249930314314651, pvalue=0.21461957865398504)"
      ]
     },
     "execution_count": 77,
     "metadata": {},
     "output_type": "execute_result"
    }
   ],
   "source": [
    "from scipy.stats import ttest_ind\n",
    "ttest_ind(auto.Price,manual.Price,equal_var=False)"
   ]
  },
  {
   "cell_type": "code",
   "execution_count": 75,
   "id": "ae37eae2",
   "metadata": {},
   "outputs": [],
   "source": [
    "# Since pvalue=0.214 is greater than 0.05, Fail to reject Null(i.e. difference is minimal) "
   ]
  },
  {
   "cell_type": "code",
   "execution_count": 78,
   "id": "ea0cd65c",
   "metadata": {},
   "outputs": [
    {
     "data": {
      "text/plain": [
       "Ttest_indResult(statistic=1.171996382758743, pvalue=0.24436023798492446)"
      ]
     },
     "execution_count": 78,
     "metadata": {},
     "output_type": "execute_result"
    }
   ],
   "source": [
    "# Test Null Average Age of Automatic 0 & 1 Cars is Equal?\n",
    "ttest_ind(auto.Age,manual.Age,equal_var=False)"
   ]
  },
  {
   "cell_type": "code",
   "execution_count": 79,
   "id": "05574b53",
   "metadata": {},
   "outputs": [],
   "source": [
    "# Since pvalue=0.244 is greater than 0.05, Fail to reject Null"
   ]
  },
  {
   "cell_type": "code",
   "execution_count": 81,
   "id": "8dad0322",
   "metadata": {},
   "outputs": [
    {
     "data": {
      "text/plain": [
       "Ttest_indResult(statistic=2.7372769943348585, pvalue=0.007389644793477585)"
      ]
     },
     "execution_count": 81,
     "metadata": {},
     "output_type": "execute_result"
    }
   ],
   "source": [
    "# Test Null Average Weight of Automatic 0 & 1 Cars is Equal?\n",
    "ttest_ind(auto.Weight,manual.Weight,equal_var=False)"
   ]
  },
  {
   "cell_type": "code",
   "execution_count": 83,
   "id": "c31bd2a1",
   "metadata": {},
   "outputs": [],
   "source": [
    "# Since pvalue=0.007 is less than 0.05, we reject Null "
   ]
  },
  {
   "cell_type": "code",
   "execution_count": 82,
   "id": "97531efd",
   "metadata": {},
   "outputs": [],
   "source": [
    "# REGRESSION ALGORITHMS - DEPENDENT VARIABLE IS NUMERICAL, CONTINUOUS, CLOSER TO NORMAL DISTRIBUTION, WITHOUT ANY OUTLIERS \n",
    "# & MISSING VALUES"
   ]
  },
  {
   "cell_type": "code",
   "execution_count": 84,
   "id": "c837e40b",
   "metadata": {},
   "outputs": [
    {
     "name": "stdout",
     "output_type": "stream",
     "text": [
      "+--------+------------------+-----------------+------------------+\n",
      "|FuelType|        avg(Price)|         avg(Age)|       avg(Weight)|\n",
      "+--------+------------------+-----------------+------------------+\n",
      "|  Diesel|11294.554838709677|50.72258064516129|            1158.4|\n",
      "|     CNG| 9421.176470588236|56.35294117647059|1097.8235294117646|\n",
      "|  Petrol|10679.310126582279|56.58227848101266| 1061.579905063291|\n",
      "+--------+------------------+-----------------+------------------+\n",
      "\n"
     ]
    }
   ],
   "source": [
    "# One Variable Numeric and Other Variable is Categorical with more than 2 levels or groups\n",
    "# Hypotesis test - Anova Single factor or One way Anova\n",
    "carSales.groupby('FuelType').mean('Price','Age','Weight').show()"
   ]
  },
  {
   "cell_type": "code",
   "execution_count": 85,
   "id": "1975f80b",
   "metadata": {},
   "outputs": [
    {
     "name": "stdout",
     "output_type": "stream",
     "text": [
      "(17, 13)\n",
      "(155, 13)\n",
      "(1264, 13)\n"
     ]
    }
   ],
   "source": [
    "# Split the Data into 3 Subsets - Use Pandas Dataframe(we dont have hypothesis testing in pyspark)\n",
    "#carSales- Spark RDD & carSalesdf- Pandas Dataframe\n",
    "cng=carSalesdf[carSalesdf.FuelType=='CNG']\n",
    "diesel=carSalesdf[carSalesdf.FuelType=='Diesel']\n",
    "petrol=carSalesdf[carSalesdf.FuelType=='Petrol']\n",
    "print(cng.shape)\n",
    "print(diesel.shape)\n",
    "print(petrol.shape)"
   ]
  },
  {
   "cell_type": "markdown",
   "id": "038012b6",
   "metadata": {},
   "source": [
    "# ANOVA Test"
   ]
  },
  {
   "cell_type": "code",
   "execution_count": 86,
   "id": "a0c765fa",
   "metadata": {},
   "outputs": [],
   "source": [
    "from scipy.stats import f_oneway"
   ]
  },
  {
   "cell_type": "code",
   "execution_count": 87,
   "id": "54c35b26",
   "metadata": {},
   "outputs": [],
   "source": [
    "# Null - No Significant difference in Average Prices of CNG, Diesel & Petrol cars\n",
    "# Alt - Significant difference in Average Prices of CNG, Diesel & Petrol cars"
   ]
  },
  {
   "cell_type": "code",
   "execution_count": 88,
   "id": "d62d7bc0",
   "metadata": {},
   "outputs": [
    {
     "data": {
      "text/plain": [
       "F_onewayResult(statistic=3.1171479782774187, pvalue=0.044583699346313316)"
      ]
     },
     "execution_count": 88,
     "metadata": {},
     "output_type": "execute_result"
    }
   ],
   "source": [
    "f_oneway(cng.Price,diesel.Price,petrol.Price)"
   ]
  },
  {
   "cell_type": "code",
   "execution_count": 89,
   "id": "5a498656",
   "metadata": {},
   "outputs": [],
   "source": [
    "# Since pvalue=0.044 is less than 0.05, Reject Null "
   ]
  },
  {
   "cell_type": "code",
   "execution_count": 91,
   "id": "36827cae",
   "metadata": {},
   "outputs": [
    {
     "data": {
      "text/plain": [
       "F_onewayResult(statistic=350.13918022353243, pvalue=1.5411383170433314e-124)"
      ]
     },
     "execution_count": 91,
     "metadata": {},
     "output_type": "execute_result"
    }
   ],
   "source": [
    "# Test Null Average Weight of cng, diesel & petrol cars is equal?\n",
    "f_oneway(cng.Weight,diesel.Weight,petrol.Weight)"
   ]
  },
  {
   "cell_type": "code",
   "execution_count": 92,
   "id": "f0cc1fdc",
   "metadata": {},
   "outputs": [],
   "source": [
    "# Since  pvalue=1.5411383170433314e-124 is less tham 0.05, Reject Null"
   ]
  },
  {
   "cell_type": "code",
   "execution_count": 93,
   "id": "fcf16b8a",
   "metadata": {},
   "outputs": [],
   "source": [
    "# Both Variables are Categorical, Hypothesis testing - Chi -Square Test of Independence\n",
    "# Input of this Test is Cross Tabulation\n",
    "# Null - No Association between both Variables\n",
    "# Alt - Association between both Variables"
   ]
  },
  {
   "cell_type": "code",
   "execution_count": 95,
   "id": "02d6e136",
   "metadata": {},
   "outputs": [
    {
     "data": {
      "text/html": [
       "<div>\n",
       "<style scoped>\n",
       "    .dataframe tbody tr th:only-of-type {\n",
       "        vertical-align: middle;\n",
       "    }\n",
       "\n",
       "    .dataframe tbody tr th {\n",
       "        vertical-align: top;\n",
       "    }\n",
       "\n",
       "    .dataframe thead th {\n",
       "        text-align: right;\n",
       "    }\n",
       "</style>\n",
       "<table border=\"1\" class=\"dataframe\">\n",
       "  <thead>\n",
       "    <tr style=\"text-align: right;\">\n",
       "      <th>Doors</th>\n",
       "      <th>2</th>\n",
       "      <th>3</th>\n",
       "      <th>4</th>\n",
       "      <th>5</th>\n",
       "    </tr>\n",
       "    <tr>\n",
       "      <th>FuelType</th>\n",
       "      <th></th>\n",
       "      <th></th>\n",
       "      <th></th>\n",
       "      <th></th>\n",
       "    </tr>\n",
       "  </thead>\n",
       "  <tbody>\n",
       "    <tr>\n",
       "      <th>CNG</th>\n",
       "      <td>0</td>\n",
       "      <td>6</td>\n",
       "      <td>3</td>\n",
       "      <td>8</td>\n",
       "    </tr>\n",
       "    <tr>\n",
       "      <th>Diesel</th>\n",
       "      <td>1</td>\n",
       "      <td>61</td>\n",
       "      <td>14</td>\n",
       "      <td>79</td>\n",
       "    </tr>\n",
       "    <tr>\n",
       "      <th>Petrol</th>\n",
       "      <td>1</td>\n",
       "      <td>555</td>\n",
       "      <td>121</td>\n",
       "      <td>587</td>\n",
       "    </tr>\n",
       "  </tbody>\n",
       "</table>\n",
       "</div>"
      ],
      "text/plain": [
       "Doors     2    3    4    5\n",
       "FuelType                  \n",
       "CNG       0    6    3    8\n",
       "Diesel    1   61   14   79\n",
       "Petrol    1  555  121  587"
      ]
     },
     "execution_count": 95,
     "metadata": {},
     "output_type": "execute_result"
    }
   ],
   "source": [
    "pd.crosstab(carSalesdf.FuelType,carSalesdf.Doors)"
   ]
  },
  {
   "cell_type": "markdown",
   "id": "92cf646e",
   "metadata": {},
   "source": [
    "# Chi-Square Test"
   ]
  },
  {
   "cell_type": "code",
   "execution_count": 96,
   "id": "cc84ec29",
   "metadata": {},
   "outputs": [],
   "source": [
    "from scipy.stats import chi2_contingency"
   ]
  },
  {
   "cell_type": "code",
   "execution_count": 97,
   "id": "43a6dd93",
   "metadata": {},
   "outputs": [
    {
     "data": {
      "text/plain": [
       "(5.918157069132852,\n",
       " 0.4324204359207403,\n",
       " 6,\n",
       " array([[2.36768802e-02, 7.36350975e+00, 1.63370474e+00, 7.97910864e+00],\n",
       "        [2.15877437e-01, 6.71378830e+01, 1.48955432e+01, 7.27506964e+01],\n",
       "        [1.76044568e+00, 5.47498607e+02, 1.21470752e+02, 5.93270195e+02]]))"
      ]
     },
     "execution_count": 97,
     "metadata": {},
     "output_type": "execute_result"
    }
   ],
   "source": [
    "chi2_contingency(pd.crosstab(carSalesdf.FuelType,carSalesdf.Doors))"
   ]
  },
  {
   "cell_type": "code",
   "execution_count": 99,
   "id": "a64aebb8",
   "metadata": {},
   "outputs": [],
   "source": [
    "# Since pvalue=0.4324 is greater than 0.05, Fail to Reject Null(no relationship between doors and FuelType)"
   ]
  },
  {
   "cell_type": "code",
   "execution_count": 104,
   "id": "69f99068",
   "metadata": {},
   "outputs": [
    {
     "data": {
      "text/plain": [
       "(10.255335220371334,\n",
       " 0.005930376304755165,\n",
       " 2,\n",
       " array([[1.60529248e+01, 9.47075209e-01],\n",
       "        [1.46364903e+02, 8.63509749e+00],\n",
       "        [1.19358217e+03, 7.04178273e+01]]))"
      ]
     },
     "execution_count": 104,
     "metadata": {},
     "output_type": "execute_result"
    }
   ],
   "source": [
    "# Test Null is there Association between FuelType and Automatic?\n",
    "chi2_contingency(pd.crosstab(carSalesdf.FuelType,carSalesdf.Automatic))"
   ]
  },
  {
   "cell_type": "code",
   "execution_count": 105,
   "id": "8530cc1a",
   "metadata": {},
   "outputs": [],
   "source": [
    "# Since pvalue=0.0059 is less than 0.05, reject Null Hypothesis"
   ]
  },
  {
   "cell_type": "markdown",
   "id": "e6b229d7",
   "metadata": {},
   "source": [
    "# Data Preprocessing"
   ]
  },
  {
   "cell_type": "code",
   "execution_count": 108,
   "id": "f2fd4770",
   "metadata": {},
   "outputs": [],
   "source": [
    "# 1) Check for Duplicate Columns or Variables - Delete Duplicates\n",
    "# 2) Check for Zero Columns or Single Value Columns - Delete\n",
    "# 3) Missing Value Imputation\n",
    "# If there are more than 70% of missing values in a Variable, then impute with word lik 'missing' or 'notavailble',if it is \n",
    "# numeric column create a missing identifier 99999 or 11111\n",
    "# If less than 70% of data missing or data avialble(Numeric Variable -  Mean or Median, if it is categorical variable- Mode or \n",
    "# most Frequent Class Identity)\n",
    "\n",
    "# Python & R - missing value Imputation Algorithms\n",
    "# a) Multivariate Imputation using Chained Equations- mice\n",
    "# b) missForest - Random Forest Imputation\n",
    "# c) KNN Imputation using K Nearest Neighbors Algorithm\n",
    "# d) Probabilistic PCA using Principle Component Analysis\n",
    "\n",
    "# 4) Data Transformation-\n",
    "# Dependent Variable - Logarthmic Transformation or Square Root Transformation for Positive Skewness\n",
    "# Dependent Variable - Exponential Transformation or Power Transformation for Negative Skewness\n",
    "\n",
    "# Independent Variable - \n",
    "# Standard Scaling- Scaling using Z score=(x-mean)/std = it also gives negative values\n",
    "# Normalization or Min Max Scaling - Min Max = (X-Xmin)/(Xmax-Xmin) = (0,1)\n",
    "\n",
    "# 5) Correction of Duplicate levels within a variable. Ex - lf,low fat, Low Fat\n",
    "# 6) Reducing Number of Levels or Groups in Categorical Variables into others or miscellaneous\n",
    "# 7) Creation of New Variable from existing Variables. 2 date Columns calculate difference between as age, num of days, or Ratio\n",
    "# 8) Extracting Information from Identifiers & ID\n",
    "# 9) LabelEncoder or StringIndexer must be done on Categorical Columns to convert into Dummy Variable Encoding.Male- 1, Female-0\n",
    "# Label Encoder - Encode in Single Column\n",
    "# OneHotEncoder-  Creates new Columns & uses0/1 = No/Yes"
   ]
  },
  {
   "cell_type": "code",
   "execution_count": 109,
   "id": "1e15d6c3",
   "metadata": {},
   "outputs": [
    {
     "name": "stdout",
     "output_type": "stream",
     "text": [
      "+---+-----+---+-----+--------+---+--------+---------+----+-----+------+--------+------------+\n",
      "|_c0|Price|Age|   KM|FuelType| HP|MetColor|Automatic|  CC|Doors|Weight|AutoType|MetColorType|\n",
      "+---+-----+---+-----+--------+---+--------+---------+----+-----+------+--------+------------+\n",
      "|  1|13500| 23|46986|  Diesel| 90|       1|        0|2000|    3|  1165|  Manual|    Metcolor|\n",
      "|  2|13750| 23|72937|  Diesel| 90|       1|        0|2000|    3|  1165|  Manual|    Metcolor|\n",
      "|  3|13950| 24|41711|  Diesel| 90|       1|        0|2000|    3|  1165|  Manual|    Metcolor|\n",
      "+---+-----+---+-----+--------+---+--------+---------+----+-----+------+--------+------------+\n",
      "only showing top 3 rows\n",
      "\n"
     ]
    }
   ],
   "source": [
    "# Spark RDD - Resilient Distributed Datasets -  carSales\n",
    "carSales.show(3)"
   ]
  },
  {
   "cell_type": "code",
   "execution_count": 110,
   "id": "c61bda13",
   "metadata": {},
   "outputs": [],
   "source": [
    "from pyspark.ml.feature import StringIndexer"
   ]
  },
  {
   "cell_type": "code",
   "execution_count": 119,
   "id": "9761d5c8",
   "metadata": {},
   "outputs": [],
   "source": [
    "fuel_dummy=StringIndexer(inputCol='FuelType',outputCol='Fueldummy')\n",
    "Autodummy=StringIndexer(inputCol='AutoType',outputCol='autodummy')\n",
    "metcolordummy=StringIndexer(inputCol='MetColorType',outputCol='MetColordummy')"
   ]
  },
  {
   "cell_type": "code",
   "execution_count": 120,
   "id": "fe2094f8",
   "metadata": {},
   "outputs": [],
   "source": [
    "from pyspark.ml import Pipeline"
   ]
  },
  {
   "cell_type": "code",
   "execution_count": 130,
   "id": "f9445184",
   "metadata": {},
   "outputs": [],
   "source": [
    "#indexer=[StringIndexer(inputCol=column,outputCol=column+\"index\").fit(carSales).transform(carSales) \n",
    "#                      for column in carSales.columns\n",
    "#         ]"
   ]
  },
  {
   "cell_type": "code",
   "execution_count": 121,
   "id": "ff829912",
   "metadata": {},
   "outputs": [],
   "source": [
    "from pyspark.ml import Pipeline"
   ]
  },
  {
   "cell_type": "code",
   "execution_count": 124,
   "id": "9be4ac6e",
   "metadata": {},
   "outputs": [],
   "source": [
    "pipeline=Pipeline(stages=[fuel_dummy,Autodummy,metcolordummy])"
   ]
  },
  {
   "cell_type": "code",
   "execution_count": 126,
   "id": "5abfd88f",
   "metadata": {},
   "outputs": [],
   "source": [
    "carSalesrdd=pipeline.fit(carSales).transform(carSales)"
   ]
  },
  {
   "cell_type": "code",
   "execution_count": 129,
   "id": "23babb09",
   "metadata": {},
   "outputs": [
    {
     "name": "stdout",
     "output_type": "stream",
     "text": [
      "+---+-----+---+-----+--------+---+--------+---------+----+-----+------+--------+------------+---------+---------+-------------+\n",
      "|_c0|Price|Age|   KM|FuelType| HP|MetColor|Automatic|  CC|Doors|Weight|AutoType|MetColorType|Fueldummy|autodummy|MetColordummy|\n",
      "+---+-----+---+-----+--------+---+--------+---------+----+-----+------+--------+------------+---------+---------+-------------+\n",
      "|  1|13500| 23|46986|  Diesel| 90|       1|        0|2000|    3|  1165|  Manual|    Metcolor|      1.0|      0.0|          0.0|\n",
      "|  2|13750| 23|72937|  Diesel| 90|       1|        0|2000|    3|  1165|  Manual|    Metcolor|      1.0|      0.0|          0.0|\n",
      "|  3|13950| 24|41711|  Diesel| 90|       1|        0|2000|    3|  1165|  Manual|    Metcolor|      1.0|      0.0|          0.0|\n",
      "+---+-----+---+-----+--------+---+--------+---------+----+-----+------+--------+------------+---------+---------+-------------+\n",
      "only showing top 3 rows\n",
      "\n"
     ]
    }
   ],
   "source": [
    "carSalesrdd.show(3)"
   ]
  },
  {
   "cell_type": "code",
   "execution_count": 131,
   "id": "064610d6",
   "metadata": {},
   "outputs": [
    {
     "data": {
      "text/plain": [
       "['_c0',\n",
       " 'Price',\n",
       " 'Age',\n",
       " 'KM',\n",
       " 'FuelType',\n",
       " 'HP',\n",
       " 'MetColor',\n",
       " 'Automatic',\n",
       " 'CC',\n",
       " 'Doors',\n",
       " 'Weight',\n",
       " 'AutoType',\n",
       " 'MetColorType',\n",
       " 'Fueldummy',\n",
       " 'autodummy',\n",
       " 'MetColordummy']"
      ]
     },
     "execution_count": 131,
     "metadata": {},
     "output_type": "execute_result"
    }
   ],
   "source": [
    "carSalesrdd.columns"
   ]
  },
  {
   "cell_type": "code",
   "execution_count": 132,
   "id": "1efda552",
   "metadata": {},
   "outputs": [
    {
     "data": {
      "text/plain": [
       "DataFrame[Price: int, Age: int, KM: int, HP: int, CC: int, Doors: int, Weight: int, Fueldummy: double, autodummy: double, MetColordummy: double]"
      ]
     },
     "execution_count": 132,
     "metadata": {},
     "output_type": "execute_result"
    }
   ],
   "source": [
    "drop_cols=['_c0','AutoType','MetColorType','Automatic','FuelType','MetColor']\n",
    "carSalesrdd.drop(*drop_cols)"
   ]
  },
  {
   "cell_type": "code",
   "execution_count": 133,
   "id": "6373a8ba",
   "metadata": {},
   "outputs": [],
   "source": [
    "from pyspark.ml.feature import RFormula"
   ]
  },
  {
   "cell_type": "code",
   "execution_count": 138,
   "id": "91ebb124",
   "metadata": {},
   "outputs": [],
   "source": [
    "formula=RFormula(formula='Price~.',featuresCol='features',labelCol='label')"
   ]
  },
  {
   "cell_type": "code",
   "execution_count": 139,
   "id": "639d7598",
   "metadata": {},
   "outputs": [
    {
     "name": "stdout",
     "output_type": "stream",
     "text": [
      "+--------------------+-------+\n",
      "|            features|  label|\n",
      "+--------------------+-------+\n",
      "|[1.0,23.0,46986.0...|13500.0|\n",
      "|[2.0,23.0,72937.0...|13750.0|\n",
      "|[3.0,24.0,41711.0...|13950.0|\n",
      "|[4.0,26.0,48000.0...|14950.0|\n",
      "|[5.0,30.0,38500.0...|13750.0|\n",
      "+--------------------+-------+\n",
      "only showing top 5 rows\n",
      "\n"
     ]
    }
   ],
   "source": [
    "carSalesfinal=formula.fit(carSalesrdd).transform(carSalesrdd)\n",
    "carSalesfinal.select('features','label').show(5)"
   ]
  },
  {
   "cell_type": "code",
   "execution_count": 144,
   "id": "1a544e5e",
   "metadata": {},
   "outputs": [
    {
     "name": "stdout",
     "output_type": "stream",
     "text": [
      "+---+-----+---+-----+--------+---+--------+---------+----+-----+------+--------+------------+---------+---------+-------------+--------------------+-------+\n",
      "|_c0|Price|Age|   KM|FuelType| HP|MetColor|Automatic|  CC|Doors|Weight|AutoType|MetColorType|Fueldummy|autodummy|MetColordummy|            features|  label|\n",
      "+---+-----+---+-----+--------+---+--------+---------+----+-----+------+--------+------------+---------+---------+-------------+--------------------+-------+\n",
      "|  1|13500| 23|46986|  Diesel| 90|       1|        0|2000|    3|  1165|  Manual|    Metcolor|      1.0|      0.0|          0.0|[1.0,23.0,46986.0...|13500.0|\n",
      "|  2|13750| 23|72937|  Diesel| 90|       1|        0|2000|    3|  1165|  Manual|    Metcolor|      1.0|      0.0|          0.0|[2.0,23.0,72937.0...|13750.0|\n",
      "|  3|13950| 24|41711|  Diesel| 90|       1|        0|2000|    3|  1165|  Manual|    Metcolor|      1.0|      0.0|          0.0|[3.0,24.0,41711.0...|13950.0|\n",
      "+---+-----+---+-----+--------+---+--------+---------+----+-----+------+--------+------------+---------+---------+-------------+--------------------+-------+\n",
      "only showing top 3 rows\n",
      "\n"
     ]
    }
   ],
   "source": [
    "carSalesfinal.show(3)"
   ]
  },
  {
   "cell_type": "code",
   "execution_count": 145,
   "id": "53639b1d",
   "metadata": {},
   "outputs": [],
   "source": [
    "from pyspark.ml.regression import LinearRegression"
   ]
  },
  {
   "cell_type": "code",
   "execution_count": 146,
   "id": "1137e3b2",
   "metadata": {},
   "outputs": [],
   "source": [
    "reg=LinearRegression(featuresCol='features',labelCol='label')"
   ]
  },
  {
   "cell_type": "code",
   "execution_count": 147,
   "id": "cbca72fc",
   "metadata": {},
   "outputs": [],
   "source": [
    "regmodel=reg.fit(carSalesfinal)"
   ]
  },
  {
   "cell_type": "code",
   "execution_count": 149,
   "id": "1f8942a9",
   "metadata": {},
   "outputs": [],
   "source": [
    "regsummary=regmodel.evaluate(carSalesfinal)"
   ]
  },
  {
   "cell_type": "code",
   "execution_count": 150,
   "id": "7bae8714",
   "metadata": {},
   "outputs": [
    {
     "data": {
      "text/plain": [
       "0.8702891304792942"
      ]
     },
     "execution_count": 150,
     "metadata": {},
     "output_type": "execute_result"
    }
   ],
   "source": [
    "regsummary.r2 # R Square"
   ]
  },
  {
   "cell_type": "code",
   "execution_count": 151,
   "id": "a70a2a01",
   "metadata": {},
   "outputs": [
    {
     "data": {
      "text/plain": [
       "0.8688265695826548"
      ]
     },
     "execution_count": 151,
     "metadata": {},
     "output_type": "execute_result"
    }
   ],
   "source": [
    "regsummary.r2adj # Adjusted R Square"
   ]
  },
  {
   "cell_type": "code",
   "execution_count": 152,
   "id": "f152b939",
   "metadata": {},
   "outputs": [
    {
     "data": {
      "text/plain": [
       "1305.8107238536647"
      ]
     },
     "execution_count": 152,
     "metadata": {},
     "output_type": "execute_result"
    }
   ],
   "source": [
    "regsummary.rootMeanSquaredError # RMSE"
   ]
  },
  {
   "cell_type": "code",
   "execution_count": 153,
   "id": "9fded9e5",
   "metadata": {},
   "outputs": [],
   "source": [
    "from pyspark.ml.tuning import CrossValidator, ParamGridBuilder\n",
    "from pyspark.ml.evaluation import RegressionEvaluator"
   ]
  },
  {
   "cell_type": "code",
   "execution_count": 154,
   "id": "f689f63c",
   "metadata": {},
   "outputs": [],
   "source": [
    "lrparamGrid = (ParamGridBuilder()\n",
    "             .addGrid(reg.regParam, [0.001, 0.01, 0.1, 0.5, 1.0, 2.0])\n",
    "             #  .addGrid(reg.regParam, [0.01, 0.1, 0.5])\n",
    "             .addGrid(reg.elasticNetParam, [0.0, 0.25, 0.5, 0.75, 1.0])\n",
    "             #  .addGrid(reg.elasticNetParam, [0.0, 0.5, 1.0])\n",
    "             .addGrid(reg.maxIter, [1, 5, 10, 20, 50])\n",
    "             #  .addGrid(lr.maxIter, [1, 5, 10])\n",
    "             .build())\n",
    "\n",
    "# Evaluate model\n",
    "regevaluator = RegressionEvaluator(predictionCol=\"prediction\", labelCol=\"label\", metricName=\"rmse\")\n",
    "\n",
    "# Create 5-fold CrossValidator\n",
    "lrcv = CrossValidator(estimator = reg,\n",
    "                    estimatorParamMaps = lrparamGrid,\n",
    "                    evaluator = regevaluator,\n",
    "                    numFolds = 10)"
   ]
  },
  {
   "cell_type": "code",
   "execution_count": 157,
   "id": "6672f014",
   "metadata": {},
   "outputs": [],
   "source": [
    "#lrcvModel = lrcv.fit(carSalesfinal)"
   ]
  }
 ],
 "metadata": {
  "kernelspec": {
   "display_name": "Python 3",
   "language": "python",
   "name": "python3"
  },
  "language_info": {
   "codemirror_mode": {
    "name": "ipython",
    "version": 3
   },
   "file_extension": ".py",
   "mimetype": "text/x-python",
   "name": "python",
   "nbconvert_exporter": "python",
   "pygments_lexer": "ipython3",
   "version": "3.8.10"
  }
 },
 "nbformat": 4,
 "nbformat_minor": 5
}
